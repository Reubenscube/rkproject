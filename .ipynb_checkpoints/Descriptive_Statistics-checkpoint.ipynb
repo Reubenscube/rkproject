{
 "cells": [
  {
   "cell_type": "code",
   "execution_count": 7,
   "metadata": {
    "collapsed": false,
    "scrolled": true
   },
   "outputs": [
    {
     "data": {
      "text/html": [
       "<div>\n",
       "<table border=\"1\" class=\"dataframe\">\n",
       "  <thead>\n",
       "    <tr style=\"text-align: right;\">\n",
       "      <th></th>\n",
       "      <th>Unnamed: 0</th>\n",
       "      <th>Months since Last Donation</th>\n",
       "      <th>Number of Donations</th>\n",
       "      <th>Total Volume Donated (c.c.)</th>\n",
       "      <th>Months since First Donation</th>\n",
       "      <th>Made Donation in March 2007</th>\n",
       "    </tr>\n",
       "  </thead>\n",
       "  <tbody>\n",
       "    <tr>\n",
       "      <th>0</th>\n",
       "      <td>619</td>\n",
       "      <td>2</td>\n",
       "      <td>50</td>\n",
       "      <td>12500</td>\n",
       "      <td>98</td>\n",
       "      <td>1</td>\n",
       "    </tr>\n",
       "    <tr>\n",
       "      <th>1</th>\n",
       "      <td>664</td>\n",
       "      <td>0</td>\n",
       "      <td>13</td>\n",
       "      <td>3250</td>\n",
       "      <td>28</td>\n",
       "      <td>1</td>\n",
       "    </tr>\n",
       "    <tr>\n",
       "      <th>2</th>\n",
       "      <td>441</td>\n",
       "      <td>1</td>\n",
       "      <td>16</td>\n",
       "      <td>4000</td>\n",
       "      <td>35</td>\n",
       "      <td>1</td>\n",
       "    </tr>\n",
       "    <tr>\n",
       "      <th>3</th>\n",
       "      <td>160</td>\n",
       "      <td>2</td>\n",
       "      <td>20</td>\n",
       "      <td>5000</td>\n",
       "      <td>45</td>\n",
       "      <td>1</td>\n",
       "    </tr>\n",
       "    <tr>\n",
       "      <th>4</th>\n",
       "      <td>358</td>\n",
       "      <td>1</td>\n",
       "      <td>24</td>\n",
       "      <td>6000</td>\n",
       "      <td>77</td>\n",
       "      <td>0</td>\n",
       "    </tr>\n",
       "  </tbody>\n",
       "</table>\n",
       "</div>"
      ],
      "text/plain": [
       "   Unnamed: 0  Months since Last Donation  Number of Donations  \\\n",
       "0         619                           2                   50   \n",
       "1         664                           0                   13   \n",
       "2         441                           1                   16   \n",
       "3         160                           2                   20   \n",
       "4         358                           1                   24   \n",
       "\n",
       "   Total Volume Donated (c.c.)  Months since First Donation  \\\n",
       "0                        12500                           98   \n",
       "1                         3250                           28   \n",
       "2                         4000                           35   \n",
       "3                         5000                           45   \n",
       "4                         6000                           77   \n",
       "\n",
       "   Made Donation in March 2007  \n",
       "0                            1  \n",
       "1                            1  \n",
       "2                            1  \n",
       "3                            1  \n",
       "4                            0  "
      ]
     },
     "execution_count": 7,
     "metadata": {},
     "output_type": "execute_result"
    }
   ],
   "source": [
    "import pandas as pd\n",
    "import csv\n",
    "training_data = pd.read_table('/Users/reubenkarchem/GitHub/rkproject/TrainingData.csv', sep=',', header=0)\n",
    "training_data.head()"
   ]
  },
  {
   "cell_type": "code",
   "execution_count": 24,
   "metadata": {
    "collapsed": false
   },
   "outputs": [],
   "source": [
    "training_data.rename(columns={'Unnamed: 0':'ID' ,'Months since Last Donation':'Last_Donation', 'Number of Donations': 'Number_of_Donations', 'Total Volume Donated (c.c.)':'Volume_Donated', 'Made Donation in March 2007':'March_Donation', 'Months since First Donation':'First_Donation'}, inplace=True)"
   ]
  },
  {
   "cell_type": "code",
   "execution_count": 25,
   "metadata": {
    "collapsed": false
   },
   "outputs": [
    {
     "data": {
      "text/html": [
       "<div>\n",
       "<table border=\"1\" class=\"dataframe\">\n",
       "  <thead>\n",
       "    <tr style=\"text-align: right;\">\n",
       "      <th></th>\n",
       "      <th>ID</th>\n",
       "      <th>Last_Donation</th>\n",
       "      <th>Number_of_Donations</th>\n",
       "      <th>Volume_Donated</th>\n",
       "      <th>First_Donation</th>\n",
       "      <th>March_Donation</th>\n",
       "    </tr>\n",
       "  </thead>\n",
       "  <tbody>\n",
       "    <tr>\n",
       "      <th>0</th>\n",
       "      <td>619</td>\n",
       "      <td>2</td>\n",
       "      <td>50</td>\n",
       "      <td>12500</td>\n",
       "      <td>98</td>\n",
       "      <td>1</td>\n",
       "    </tr>\n",
       "    <tr>\n",
       "      <th>1</th>\n",
       "      <td>664</td>\n",
       "      <td>0</td>\n",
       "      <td>13</td>\n",
       "      <td>3250</td>\n",
       "      <td>28</td>\n",
       "      <td>1</td>\n",
       "    </tr>\n",
       "    <tr>\n",
       "      <th>2</th>\n",
       "      <td>441</td>\n",
       "      <td>1</td>\n",
       "      <td>16</td>\n",
       "      <td>4000</td>\n",
       "      <td>35</td>\n",
       "      <td>1</td>\n",
       "    </tr>\n",
       "    <tr>\n",
       "      <th>3</th>\n",
       "      <td>160</td>\n",
       "      <td>2</td>\n",
       "      <td>20</td>\n",
       "      <td>5000</td>\n",
       "      <td>45</td>\n",
       "      <td>1</td>\n",
       "    </tr>\n",
       "    <tr>\n",
       "      <th>4</th>\n",
       "      <td>358</td>\n",
       "      <td>1</td>\n",
       "      <td>24</td>\n",
       "      <td>6000</td>\n",
       "      <td>77</td>\n",
       "      <td>0</td>\n",
       "    </tr>\n",
       "  </tbody>\n",
       "</table>\n",
       "</div>"
      ],
      "text/plain": [
       "    ID  Last_Donation  Number_of_Donations  Volume_Donated  First_Donation  \\\n",
       "0  619              2                   50           12500              98   \n",
       "1  664              0                   13            3250              28   \n",
       "2  441              1                   16            4000              35   \n",
       "3  160              2                   20            5000              45   \n",
       "4  358              1                   24            6000              77   \n",
       "\n",
       "   March_Donation  \n",
       "0               1  \n",
       "1               1  \n",
       "2               1  \n",
       "3               1  \n",
       "4               0  "
      ]
     },
     "execution_count": 25,
     "metadata": {},
     "output_type": "execute_result"
    }
   ],
   "source": [
    "training_data.head()"
   ]
  },
  {
   "cell_type": "code",
   "execution_count": 26,
   "metadata": {
    "collapsed": false
   },
   "outputs": [
    {
     "data": {
      "text/html": [
       "<div>\n",
       "<table border=\"1\" class=\"dataframe\">\n",
       "  <thead>\n",
       "    <tr style=\"text-align: right;\">\n",
       "      <th></th>\n",
       "      <th></th>\n",
       "      <th>First_Donation</th>\n",
       "      <th>ID</th>\n",
       "      <th>Last_Donation</th>\n",
       "      <th>Number_of_Donations</th>\n",
       "      <th>Volume_Donated</th>\n",
       "    </tr>\n",
       "    <tr>\n",
       "      <th>March_Donation</th>\n",
       "      <th></th>\n",
       "      <th></th>\n",
       "      <th></th>\n",
       "      <th></th>\n",
       "      <th></th>\n",
       "      <th></th>\n",
       "    </tr>\n",
       "  </thead>\n",
       "  <tbody>\n",
       "    <tr>\n",
       "      <th rowspan=\"8\" valign=\"top\">0</th>\n",
       "      <th>count</th>\n",
       "      <td>438.000000</td>\n",
       "      <td>438.000000</td>\n",
       "      <td>438.000000</td>\n",
       "      <td>438.000000</td>\n",
       "      <td>438.000000</td>\n",
       "    </tr>\n",
       "    <tr>\n",
       "      <th>mean</th>\n",
       "      <td>34.319635</td>\n",
       "      <td>368.933790</td>\n",
       "      <td>10.636986</td>\n",
       "      <td>4.716895</td>\n",
       "      <td>1179.223744</td>\n",
       "    </tr>\n",
       "    <tr>\n",
       "      <th>std</th>\n",
       "      <td>24.519606</td>\n",
       "      <td>220.597437</td>\n",
       "      <td>8.509690</td>\n",
       "      <td>4.729985</td>\n",
       "      <td>1182.496231</td>\n",
       "    </tr>\n",
       "    <tr>\n",
       "      <th>min</th>\n",
       "      <td>2.000000</td>\n",
       "      <td>2.000000</td>\n",
       "      <td>0.000000</td>\n",
       "      <td>1.000000</td>\n",
       "      <td>250.000000</td>\n",
       "    </tr>\n",
       "    <tr>\n",
       "      <th>25%</th>\n",
       "      <td>16.000000</td>\n",
       "      <td>177.250000</td>\n",
       "      <td>4.000000</td>\n",
       "      <td>2.000000</td>\n",
       "      <td>500.000000</td>\n",
       "    </tr>\n",
       "    <tr>\n",
       "      <th>50%</th>\n",
       "      <td>27.000000</td>\n",
       "      <td>363.500000</td>\n",
       "      <td>11.000000</td>\n",
       "      <td>3.000000</td>\n",
       "      <td>750.000000</td>\n",
       "    </tr>\n",
       "    <tr>\n",
       "      <th>75%</th>\n",
       "      <td>51.750000</td>\n",
       "      <td>565.750000</td>\n",
       "      <td>16.000000</td>\n",
       "      <td>6.000000</td>\n",
       "      <td>1500.000000</td>\n",
       "    </tr>\n",
       "    <tr>\n",
       "      <th>max</th>\n",
       "      <td>98.000000</td>\n",
       "      <td>747.000000</td>\n",
       "      <td>74.000000</td>\n",
       "      <td>44.000000</td>\n",
       "      <td>11000.000000</td>\n",
       "    </tr>\n",
       "    <tr>\n",
       "      <th rowspan=\"8\" valign=\"top\">1</th>\n",
       "      <th>count</th>\n",
       "      <td>138.000000</td>\n",
       "      <td>138.000000</td>\n",
       "      <td>138.000000</td>\n",
       "      <td>138.000000</td>\n",
       "      <td>138.000000</td>\n",
       "    </tr>\n",
       "    <tr>\n",
       "      <th>mean</th>\n",
       "      <td>33.195652</td>\n",
       "      <td>390.224638</td>\n",
       "      <td>5.637681</td>\n",
       "      <td>7.681159</td>\n",
       "      <td>1920.289855</td>\n",
       "    </tr>\n",
       "    <tr>\n",
       "      <th>std</th>\n",
       "      <td>23.343158</td>\n",
       "      <td>204.863209</td>\n",
       "      <td>5.513013</td>\n",
       "      <td>7.758194</td>\n",
       "      <td>1939.548424</td>\n",
       "    </tr>\n",
       "    <tr>\n",
       "      <th>min</th>\n",
       "      <td>2.000000</td>\n",
       "      <td>0.000000</td>\n",
       "      <td>0.000000</td>\n",
       "      <td>1.000000</td>\n",
       "      <td>250.000000</td>\n",
       "    </tr>\n",
       "    <tr>\n",
       "      <th>25%</th>\n",
       "      <td>16.000000</td>\n",
       "      <td>231.250000</td>\n",
       "      <td>2.000000</td>\n",
       "      <td>3.000000</td>\n",
       "      <td>750.000000</td>\n",
       "    </tr>\n",
       "    <tr>\n",
       "      <th>50%</th>\n",
       "      <td>28.000000</td>\n",
       "      <td>397.000000</td>\n",
       "      <td>4.000000</td>\n",
       "      <td>6.000000</td>\n",
       "      <td>1500.000000</td>\n",
       "    </tr>\n",
       "    <tr>\n",
       "      <th>75%</th>\n",
       "      <td>45.750000</td>\n",
       "      <td>548.500000</td>\n",
       "      <td>6.000000</td>\n",
       "      <td>9.000000</td>\n",
       "      <td>2250.000000</td>\n",
       "    </tr>\n",
       "    <tr>\n",
       "      <th>max</th>\n",
       "      <td>98.000000</td>\n",
       "      <td>740.000000</td>\n",
       "      <td>26.000000</td>\n",
       "      <td>50.000000</td>\n",
       "      <td>12500.000000</td>\n",
       "    </tr>\n",
       "  </tbody>\n",
       "</table>\n",
       "</div>"
      ],
      "text/plain": [
       "                      First_Donation          ID  Last_Donation  \\\n",
       "March_Donation                                                    \n",
       "0              count      438.000000  438.000000     438.000000   \n",
       "               mean        34.319635  368.933790      10.636986   \n",
       "               std         24.519606  220.597437       8.509690   \n",
       "               min          2.000000    2.000000       0.000000   \n",
       "               25%         16.000000  177.250000       4.000000   \n",
       "               50%         27.000000  363.500000      11.000000   \n",
       "               75%         51.750000  565.750000      16.000000   \n",
       "               max         98.000000  747.000000      74.000000   \n",
       "1              count      138.000000  138.000000     138.000000   \n",
       "               mean        33.195652  390.224638       5.637681   \n",
       "               std         23.343158  204.863209       5.513013   \n",
       "               min          2.000000    0.000000       0.000000   \n",
       "               25%         16.000000  231.250000       2.000000   \n",
       "               50%         28.000000  397.000000       4.000000   \n",
       "               75%         45.750000  548.500000       6.000000   \n",
       "               max         98.000000  740.000000      26.000000   \n",
       "\n",
       "                      Number_of_Donations  Volume_Donated  \n",
       "March_Donation                                             \n",
       "0              count           438.000000      438.000000  \n",
       "               mean              4.716895     1179.223744  \n",
       "               std               4.729985     1182.496231  \n",
       "               min               1.000000      250.000000  \n",
       "               25%               2.000000      500.000000  \n",
       "               50%               3.000000      750.000000  \n",
       "               75%               6.000000     1500.000000  \n",
       "               max              44.000000    11000.000000  \n",
       "1              count           138.000000      138.000000  \n",
       "               mean              7.681159     1920.289855  \n",
       "               std               7.758194     1939.548424  \n",
       "               min               1.000000      250.000000  \n",
       "               25%               3.000000      750.000000  \n",
       "               50%               6.000000     1500.000000  \n",
       "               75%               9.000000     2250.000000  \n",
       "               max              50.000000    12500.000000  "
      ]
     },
     "execution_count": 26,
     "metadata": {},
     "output_type": "execute_result"
    }
   ],
   "source": [
    "training_data.groupby('March_Donation').describe()"
   ]
  },
  {
   "cell_type": "code",
   "execution_count": 18,
   "metadata": {
    "collapsed": true
   },
   "outputs": [],
   "source": [
    "import matplotlib.pyplot as plt\n",
    "%matplotlib inline"
   ]
  },
  {
   "cell_type": "code",
   "execution_count": 35,
   "metadata": {
    "collapsed": false
   },
   "outputs": [
    {
     "data": {
      "text/plain": [
       "<matplotlib.axes._subplots.AxesSubplot at 0x108393050>"
      ]
     },
     "execution_count": 35,
     "metadata": {},
     "output_type": "execute_result"
    },
    {
     "data": {
      "image/png": "[encoded data removed]",
      "text/plain": [
       "<matplotlib.figure.Figure at 0x1079807d0>"
      ]
     },
     "metadata": {},
     "output_type": "display_data"
    },
    {
     "data": {
      "image/png": "[encoded data removed]",
      "text/plain": [
       "<matplotlib.figure.Figure at 0x107980850>"
      ]
     },
     "metadata": {},
     "output_type": "display_data"
    },
    {
     "data": {
      "image/png": "[encoded data removed]",
      "text/plain": [
       "<matplotlib.figure.Figure at 0x107980910>"
      ]
     },
     "metadata": {},
     "output_type": "display_data"
    },
    {
     "data": {
      "image/png": "[encoded data removed]",
      "text/plain": [
       "<matplotlib.figure.Figure at 0x107980750>"
      ]
     },
     "metadata": {},
     "output_type": "display_data"
    }
   ],
   "source": [
    "training_data.boxplot(column='Last_Donation', by='March_Donation', vert=False)\n",
    "training_data.boxplot(column='First_Donation', by='March_Donation', vert=False)\n",
    "training_data.boxplot(column='Number_of_Donations', by='March_Donation', vert=False)\n",
    "training_data.boxplot(column='Volume_Donated', by='March_Donation', vert=False) #Exact same as Number of Donations"
   ]
  },
  {
   "cell_type": "code",
   "execution_count": 28,
   "metadata": {
    "collapsed": false
   },
   "outputs": [
    {
     "data": {
      "text/plain": [
       "March_Donation       \n",
       "0               count    438.000000\n",
       "                mean      10.636986\n",
       "                std        8.509690\n",
       "                min        0.000000\n",
       "                25%        4.000000\n",
       "                50%       11.000000\n",
       "                75%       16.000000\n",
       "                max       74.000000\n",
       "1               count    138.000000\n",
       "                mean       5.637681\n",
       "                std        5.513013\n",
       "                min        0.000000\n",
       "                25%        2.000000\n",
       "                50%        4.000000\n",
       "                75%        6.000000\n",
       "                max       26.000000\n",
       "dtype: float64"
      ]
     },
     "execution_count": 28,
     "metadata": {},
     "output_type": "execute_result"
    }
   ],
   "source": [
    "training_data.groupby('March_Donation').Last_Donation.describe()"
   ]
  },
  {
   "cell_type": "code",
   "execution_count": 31,
   "metadata": {
    "collapsed": false
   },
   "outputs": [
    {
     "data": {
      "text/plain": [
       "March_Donation       \n",
       "0               count    438.000000\n",
       "                mean      34.319635\n",
       "                std       24.519606\n",
       "                min        2.000000\n",
       "                25%       16.000000\n",
       "                50%       27.000000\n",
       "                75%       51.750000\n",
       "                max       98.000000\n",
       "1               count    138.000000\n",
       "                mean      33.195652\n",
       "                std       23.343158\n",
       "                min        2.000000\n",
       "                25%       16.000000\n",
       "                50%       28.000000\n",
       "                75%       45.750000\n",
       "                max       98.000000\n",
       "dtype: float64"
      ]
     },
     "execution_count": 31,
     "metadata": {},
     "output_type": "execute_result"
    }
   ],
   "source": [
    "training_data.groupby('March_Donation').First_Donation.describe()"
   ]
  },
  {
   "cell_type": "code",
   "execution_count": 36,
   "metadata": {
    "collapsed": false
   },
   "outputs": [
    {
     "data": {
      "text/plain": [
       "March_Donation       \n",
       "0               count    438.000000\n",
       "                mean       4.716895\n",
       "                std        4.729985\n",
       "                min        1.000000\n",
       "                25%        2.000000\n",
       "                50%        3.000000\n",
       "                75%        6.000000\n",
       "                max       44.000000\n",
       "1               count    138.000000\n",
       "                mean       7.681159\n",
       "                std        7.758194\n",
       "                min        1.000000\n",
       "                25%        3.000000\n",
       "                50%        6.000000\n",
       "                75%        9.000000\n",
       "                max       50.000000\n",
       "dtype: float64"
      ]
     },
     "execution_count": 36,
     "metadata": {},
     "output_type": "execute_result"
    }
   ],
   "source": [
    "training_data.groupby('March_Donation').Number_of_Donations.describe()"
   ]
  },
  {
   "cell_type": "code",
   "execution_count": 37,
   "metadata": {
    "collapsed": false
   },
   "outputs": [
    {
     "data": {
      "text/plain": [
       "March_Donation       \n",
       "0               count      438.000000\n",
       "                mean      1179.223744\n",
       "                std       1182.496231\n",
       "                min        250.000000\n",
       "                25%        500.000000\n",
       "                50%        750.000000\n",
       "                75%       1500.000000\n",
       "                max      11000.000000\n",
       "1               count      138.000000\n",
       "                mean      1920.289855\n",
       "                std       1939.548424\n",
       "                min        250.000000\n",
       "                25%        750.000000\n",
       "                50%       1500.000000\n",
       "                75%       2250.000000\n",
       "                max      12500.000000\n",
       "dtype: float64"
      ]
     },
     "execution_count": 37,
     "metadata": {},
     "output_type": "execute_result"
    }
   ],
   "source": [
    "training_data.groupby('March_Donation').Volume_Donated.describe()"
   ]
  },
  {
   "cell_type": "code",
   "execution_count": 65,
   "metadata": {
    "collapsed": true
   },
   "outputs": [],
   "source": [
    "#LOGISTIC REGRESSION\n",
    "from sklearn.linear_model import LogisticRegression\n",
    "logreg = LogisticRegression(C=1e9)\n",
    "from sklearn.cross_validation import train_test_split\n",
    "feature_cols = ['First_Donation', 'Last_Donation','Number_of_Donations','Volume_Donated']\n",
    "X = training_data[feature_cols]\n",
    "y = training_data.March_Donation\n",
    "X_train,X_test, y_train, y_test = train_test_split(X, y, random_state=3)"
   ]
  },
  {
   "cell_type": "code",
   "execution_count": 66,
   "metadata": {
    "collapsed": false
   },
   "outputs": [
    {
     "data": {
      "text/plain": [
       "LogisticRegression(C=1000000000.0, class_weight=None, dual=False,\n",
       "          fit_intercept=True, intercept_scaling=1, max_iter=100,\n",
       "          multi_class='ovr', penalty='l2', random_state=None,\n",
       "          solver='liblinear', tol=0.0001, verbose=0)"
      ]
     },
     "execution_count": 66,
     "metadata": {},
     "output_type": "execute_result"
    }
   ],
   "source": [
    "logreg.fit(X_train, y_train)"
   ]
  },
  {
   "cell_type": "code",
   "execution_count": 67,
   "metadata": {
    "collapsed": false
   },
   "outputs": [
    {
     "name": "stdout",
     "output_type": "stream",
     "text": [
      "0.805555555556\n"
     ]
    }
   ],
   "source": [
    "y_pred = logreg.predict(X_test)\n",
    "from sklearn import metrics\n",
    "print metrics.accuracy_score(y_test, y_pred)\n",
    "#.80556"
   ]
  },
  {
   "cell_type": "code",
   "execution_count": 72,
   "metadata": {
    "collapsed": false
   },
   "outputs": [
    {
     "name": "stdout",
     "output_type": "stream",
     "text": [
      "0.784722222222\n"
     ]
    }
   ],
   "source": [
    "#KNN\n",
    "from sklearn.neighbors import KNeighborsClassifier\n",
    "knn = KNeighborsClassifier(n_neighbors=5)\n",
    "knn.fit(X_train, y_train)\n",
    "y_pred2 = knn.predict(X_test)\n",
    "print metrics.accuracy_score(y_test, y_pred2)\n",
    "#KNN of 5 .78472"
   ]
  },
  {
   "cell_type": "code",
   "execution_count": 73,
   "metadata": {
    "collapsed": true
   },
   "outputs": [],
   "source": [
    "#CROSS VALIDATION\n",
    "from sklearn.cross_validation import KFold\n",
    "from sklearn.cross_validation import cross_val_score\n",
    "kf = KFold(25, n_folds=5, shuffle=False)"
   ]
  },
  {
   "cell_type": "code",
   "execution_count": 77,
   "metadata": {
    "collapsed": false
   },
   "outputs": [
    {
     "name": "stdout",
     "output_type": "stream",
     "text": [
      "[ 0.77011494  0.75862069  0.6744186   0.73255814  0.80232558]\n",
      "0.747607591553\n"
     ]
    }
   ],
   "source": [
    "knn = KNeighborsClassifier(n_neighbors=5)\n",
    "scores = cross_val_score(knn, X_train, y_train, cv=5, scoring='accuracy')\n",
    "print scores\n",
    "print scores.mean()"
   ]
  },
  {
   "cell_type": "code",
   "execution_count": 84,
   "metadata": {
    "collapsed": false
   },
   "outputs": [
    {
     "name": "stdout",
     "output_type": "stream",
     "text": [
      "[0.65974338412189248, 0.75920876770916867, 0.73381448810478478, 0.75928896017107728, 0.74760759155306067, 0.77316225608126177, 0.74995990376904564, 0.75920876770916867, 0.74057738572574183, 0.75223202352312213, 0.75453087409783481, 0.7545308740978347, 0.74295642876236301, 0.74990644212777335, 0.73833199679230144, 0.73838545843357384, 0.7430098904036353, 0.73838545843357384, 0.7430366212242715, 0.74536220261962038, 0.73605987703822495, 0.75001336541031804, 0.74071103982892272, 0.75233894680566693, 0.75233894680566693, 0.75233894680566693, 0.75233894680566693, 0.75233894680566693, 0.75233894680566693, 0.75233894680566693]\n"
     ]
    },
    {
     "data": {
      "text/plain": [
       "<matplotlib.text.Text at 0x10ad107d0>"
      ]
     },
     "execution_count": 84,
     "metadata": {},
     "output_type": "execute_result"
    },
    {
     "data": {
      "image/png": "[encoded data removed]",
      "text/plain": [
       "<matplotlib.figure.Figure at 0x107980350>"
      ]
     },
     "metadata": {},
     "output_type": "display_data"
    }
   ],
   "source": [
    "k_range = range(1, 31)\n",
    "k_scores = []\n",
    "for k in k_range:\n",
    "    knn = KNeighborsClassifier(n_neighbors=k)\n",
    "    scores = cross_val_score(knn, X_train, y_train, cv=5, scoring='accuracy')\n",
    "    k_scores.append(scores.mean())\n",
    "print k_scores\n",
    "\n",
    "plt.plot(k_range, k_scores)\n",
    "plt.xlabel('KNN K-value')\n",
    "plt.ylabel('Cross_val_score')\n",
    "#k=6 is the highest"
   ]
  },
  {
   "cell_type": "code",
   "execution_count": null,
   "metadata": {
    "collapsed": true
   },
   "outputs": [],
   "source": []
  }
 ],
 "metadata": {
  "kernelspec": {
   "display_name": "Python 2",
   "language": "python",
   "name": "python2"
  },
  "language_info": {
   "codemirror_mode": {
    "name": "ipython",
    "version": 2
   },
   "file_extension": ".py",
   "mimetype": "text/x-python",
   "name": "python",
   "nbconvert_exporter": "python",
   "pygments_lexer": "ipython2",
   "version": "2.7.10"
  }
 },
 "nbformat": 4,
 "nbformat_minor": 0
}
